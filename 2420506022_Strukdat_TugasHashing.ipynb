{
  "nbformat": 4,
  "nbformat_minor": 0,
  "metadata": {
    "colab": {
      "provenance": [],
      "authorship_tag": "ABX9TyPiOXd5R5AQVqjWLS06FSaq",
      "include_colab_link": true
    },
    "kernelspec": {
      "name": "python3",
      "display_name": "Python 3"
    },
    "language_info": {
      "name": "python"
    }
  },
  "cells": [
    {
      "cell_type": "markdown",
      "metadata": {
        "id": "view-in-github",
        "colab_type": "text"
      },
      "source": [
        "<a href=\"https://colab.research.google.com/github/faizdifak/Basis-data/blob/main/2420506022_Strukdat_TugasHashing.ipynb\" target=\"_parent\"><img src=\"https://colab.research.google.com/assets/colab-badge.svg\" alt=\"Open In Colab\"/></a>"
      ]
    },
    {
      "cell_type": "code",
      "execution_count": null,
      "metadata": {
        "colab": {
          "base_uri": "https://localhost:8080/"
        },
        "id": "1HQH0hL_1q92",
        "outputId": "dd41768d-405f-496c-cd1e-fb67a33f97ee"
      },
      "outputs": [
        {
          "output_type": "stream",
          "name": "stdout",
          "text": [
            "Index 0: ('D', 40)\n",
            "Index 1: ('A', 10)\n",
            "Index 2: ('E', 50)\n",
            "Index 3: ('C', 30)\n",
            "Index 4: ('B', 20)\n"
          ]
        }
      ],
      "source": [
        "# Tugas\n",
        "# 1 Eksperimen Sederhana Linear Probing\n",
        "class LinearProbingHashTable:\n",
        "    def __init__(self, size):\n",
        "        self.size = size\n",
        "        self.table = [None] * size\n",
        "\n",
        "    def hash_function(self, key):\n",
        "        return hash(key) % self.size\n",
        "\n",
        "    def insert(self, key, value):\n",
        "        index = self.hash_function(key)\n",
        "        original_index = index\n",
        "\n",
        "        while self.table[index] is not None:\n",
        "            if self.table[index][0] == key:\n",
        "                break\n",
        "            index = (index + 1) % self.size\n",
        "            if index == original_index:\n",
        "                raise Exception(\"Hash table penuh\")\n",
        "\n",
        "        self.table[index] = (key, value)\n",
        "\n",
        "    def display(self):\n",
        "        for i, item in enumerate(self.table):\n",
        "            print(f\"Index {i}: {item}\")\n",
        "\n",
        "ht = LinearProbingHashTable(5)\n",
        "data = {\"A\": 10, \"B\": 20, \"C\": 30, \"D\": 40, \"E\": 50}\n",
        "\n",
        "for k, v in data.items():\n",
        "    ht.insert(k, v)\n",
        "\n",
        "ht.display()"
      ]
    },
    {
      "cell_type": "code",
      "source": [
        "# 2 Percobaan Dasar Chaining\n",
        "class ChainingHashTable:\n",
        "    def __init__(self, size):\n",
        "        self.size = size\n",
        "        self.table = [[] for _ in range(size)]\n",
        "\n",
        "    def hash_function(self, key):\n",
        "        return hash(key) % self.size\n",
        "\n",
        "    def insert(self, key, value):\n",
        "        index = self.hash_function(key)\n",
        "        for i, (k, v) in enumerate(self.table[index]):\n",
        "            if k == key:\n",
        "                self.table[index][i] = (key, value)\n",
        "                return\n",
        "        self.table[index].append((key, value))\n",
        "\n",
        "    def display(self):\n",
        "        for i, bucket in enumerate(self.table):\n",
        "            print(f\"Index {i}: {bucket}\")\n",
        "\n",
        "ht = ChainingHashTable(3)\n",
        "data = {\n",
        "    \"apel\": 100,\n",
        "    \"melon\": 200,\n",
        "    \"lemon\": 300,\n",
        "    \"pisang\": 400\n",
        "}\n",
        "\n",
        "for k, v in data.items():\n",
        "    ht.insert(k, v)\n",
        "\n",
        "ht.display()"
      ],
      "metadata": {
        "colab": {
          "base_uri": "https://localhost:8080/"
        },
        "id": "Tlh9UUvmCH1M",
        "outputId": "d5a7dcb3-4411-49c1-a394-d1f410c2e7a2"
      },
      "execution_count": null,
      "outputs": [
        {
          "output_type": "stream",
          "name": "stdout",
          "text": [
            "Index 0: [('apel', 100)]\n",
            "Index 1: [('melon', 200), ('lemon', 300)]\n",
            "Index 2: [('pisang', 400)]\n"
          ]
        }
      ]
    }
  ]
}